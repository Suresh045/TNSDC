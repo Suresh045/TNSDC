{
  "cells": [
    {
      "cell_type": "markdown",
      "metadata": {
        "id": "view-in-github",
        "colab_type": "text"
      },
      "source": [
        "<a href=\"https://colab.research.google.com/github/Suresh045/TNSDC/blob/main/Feature_Selection_regression_kbest.ipynb\" target=\"_parent\"><img src=\"https://colab.research.google.com/assets/colab-badge.svg\" alt=\"Open In Colab\"/></a>"
      ]
    },
    {
      "cell_type": "code",
      "source": [
        "import pandas as pd\n",
        "import numpy as np\n",
        "import time\n",
        "from sklearn.model_selection import train_test_split\n",
        "from sklearn.preprocessing import StandardScaler, MinMaxScaler, LabelEncoder\n",
        "from sklearn.feature_selection import SelectKBest, f_regression\n",
        "from sklearn.linear_model import LinearRegression\n",
        "from sklearn.tree import DecisionTreeRegressor\n",
        "from sklearn.ensemble import RandomForestRegressor\n",
        "from xgboost import XGBRegressor\n",
        "from sklearn.metrics import r2_score\n",
        "import pickle\n",
        "import matplotlib.pyplot as plt\n"
      ],
      "metadata": {
        "id": "HTMlr4w8JVqr"
      },
      "id": "HTMlr4w8JVqr",
      "execution_count": null,
      "outputs": []
    },
    {
      "cell_type": "code",
      "source": [
        "# Load the dataset\n",
        "dataset = pd.read_csv(\"flightprice.csv\")\n",
        "\n",
        "# Inspect dataset\n",
        "print(dataset.head())\n",
        "print(\"\\nColumns:\", dataset.columns)\n",
        "print(\"\\nShape:\", dataset.shape)"
      ],
      "metadata": {
        "colab": {
          "base_uri": "https://localhost:8080/"
        },
        "id": "63LULeMeJXeG",
        "outputId": "a991bc0e-ee53-4ef4-db06-10faf00b23bd"
      },
      "id": "63LULeMeJXeG",
      "execution_count": null,
      "outputs": [
        {
          "output_type": "stream",
          "name": "stdout",
          "text": [
            "   duration  days_left   airline source_city departure_time  stops  \\\n",
            "0       223          4    IndiGo     Kolkata      Afternoon      0   \n",
            "1       249         29     GoAir       Delhi          Night      0   \n",
            "2       119         17     GoAir       Delhi      Afternoon      0   \n",
            "3       131         26    IndiGo      Mumbai        Evening      0   \n",
            "4        86          3  SpiceJet       Delhi        Evening      0   \n",
            "\n",
            "  arrival_time destination_city     class  price  \n",
            "0    Afternoon        Bangalore   Economy  14087  \n",
            "1      Morning          Kolkata   Economy   6582  \n",
            "2        Night          Kolkata  Business  12654  \n",
            "3      Evening        Hyderabad   Economy   8514  \n",
            "4      Evening          Chennai  Business  11785  \n",
            "\n",
            "Columns: Index(['duration', 'days_left', 'airline', 'source_city', 'departure_time',\n",
            "       'stops', 'arrival_time', 'destination_city', 'class', 'price'],\n",
            "      dtype='object')\n",
            "\n",
            "Shape: (100, 10)\n"
          ]
        }
      ]
    },
    {
      "cell_type": "code",
      "source": [
        "# Copy dataset\n",
        "df = dataset.copy()\n",
        "\n",
        "# Encode categorical columns\n",
        "categorical_cols = ['airline', 'source_city', 'departure_time',\n",
        "                    'arrival_time', 'destination_city', 'class']\n",
        "\n",
        "encoder = LabelEncoder()\n",
        "for col in categorical_cols:\n",
        "    df[col] = encoder.fit_transform(df[col])\n",
        "\n",
        "print(df.head())\n"
      ],
      "metadata": {
        "colab": {
          "base_uri": "https://localhost:8080/"
        },
        "id": "UBWMycm4Jaxg",
        "outputId": "1913eff1-4114-4925-de9a-869715df1686"
      },
      "id": "UBWMycm4Jaxg",
      "execution_count": null,
      "outputs": [
        {
          "output_type": "stream",
          "name": "stdout",
          "text": [
            "   duration  days_left  airline  source_city  departure_time  stops  \\\n",
            "0       223          4        2            4               0      0   \n",
            "1       249         29        1            2               3      0   \n",
            "2       119         17        1            2               0      0   \n",
            "3       131         26        2            5               1      0   \n",
            "4        86          3        3            2               1      0   \n",
            "\n",
            "   arrival_time  destination_city  class  price  \n",
            "0             0                 0      1  14087  \n",
            "1             2                 4      1   6582  \n",
            "2             3                 4      0  12654  \n",
            "3             1                 3      1   8514  \n",
            "4             1                 1      0  11785  \n"
          ]
        }
      ]
    },
    {
      "cell_type": "code",
      "source": [
        "indep_X = df[['duration', 'days_left', 'airline', 'source_city',\n",
        "              'departure_time', 'stops', 'arrival_time',\n",
        "              'destination_city', 'class']]\n",
        "\n",
        "dep_Y = df[['price']]\n"
      ],
      "metadata": {
        "id": "3tiumbDJJegz"
      },
      "id": "3tiumbDJJegz",
      "execution_count": null,
      "outputs": []
    },
    {
      "cell_type": "code",
      "source": [
        "def select_kbest_features(indep_X, dep_Y, k):\n",
        "    scaler = MinMaxScaler()\n",
        "    X_scaled = scaler.fit_transform(indep_X)\n",
        "\n",
        "    selector = SelectKBest(score_func=f_regression, k=k)\n",
        "    X_new = selector.fit_transform(X_scaled, dep_Y.values.ravel())\n",
        "\n",
        "    selected_columns = [col for col, selected in zip(indep_X.columns, selector.get_support()) if selected]\n",
        "    return X_new, selected_columns\n",
        "\n",
        "X_new, selected_columns = select_kbest_features(indep_X, dep_Y, k=5)\n",
        "print(\"Selected Columns using SelectKBest:\", selected_columns)\n"
      ],
      "metadata": {
        "colab": {
          "base_uri": "https://localhost:8080/"
        },
        "id": "OrAuHN4rJjj6",
        "outputId": "7d93af07-3068-483b-cb4b-46eb2cd98aca"
      },
      "id": "OrAuHN4rJjj6",
      "execution_count": null,
      "outputs": [
        {
          "output_type": "stream",
          "name": "stdout",
          "text": [
            "Selected Columns using SelectKBest: ['duration', 'airline', 'source_city', 'departure_time', 'stops']\n"
          ]
        }
      ]
    },
    {
      "cell_type": "code",
      "source": [
        "def split_scalar(X, y):\n",
        "    X_train, X_test, y_train, y_test = train_test_split(X, y, test_size=0.25, random_state=0)\n",
        "    sc = StandardScaler()\n",
        "    X_train = sc.fit_transform(X_train)\n",
        "    X_test = sc.transform(X_test)\n",
        "    return X_train, X_test, y_train, y_test\n",
        "\n",
        "X_train, X_test, y_train, y_test = split_scalar(X_new, dep_Y)\n"
      ],
      "metadata": {
        "id": "sToQ3TD7JmEs"
      },
      "id": "sToQ3TD7JmEs",
      "execution_count": null,
      "outputs": []
    },
    {
      "cell_type": "code",
      "source": [
        "def r2_prediction(regressor, X_test, y_test):\n",
        "    y_pred = regressor.predict(X_test)\n",
        "    return r2_score(y_test, y_pred)\n",
        "\n",
        "def Linear(X_train, y_train, X_test, y_test):\n",
        "    regressor = LinearRegression()\n",
        "    regressor.fit(X_train, y_train)\n",
        "    return r2_prediction(regressor, X_test, y_test)\n",
        "\n",
        "def Decision(X_train, y_train, X_test, y_test):\n",
        "    regressor = DecisionTreeRegressor(random_state=0)\n",
        "    regressor.fit(X_train, y_train)\n",
        "    return r2_prediction(regressor, X_test, y_test)\n",
        "\n",
        "def Random(X_train, y_train, X_test, y_test):\n",
        "    regressor = RandomForestRegressor(n_estimators=10, random_state=0)\n",
        "    regressor.fit(X_train, y_train)\n",
        "    return r2_prediction(regressor, X_test, y_test)\n",
        "\n",
        "def XGBoost(X_train, y_train, X_test, y_test):\n",
        "    regressor = XGBRegressor(n_jobs=5, learning_rate=0.1, max_depth=10, random_state=1)\n",
        "    regressor.fit(X_train, y_train)\n",
        "    return r2_prediction(regressor, X_test, y_test)\n"
      ],
      "metadata": {
        "id": "bUiC9pkuJvWA"
      },
      "id": "bUiC9pkuJvWA",
      "execution_count": null,
      "outputs": []
    },
    {
      "cell_type": "code",
      "source": [
        "r2_linear = Linear(X_train, y_train, X_test, y_test)\n",
        "r2_decision = Decision(X_train, y_train, X_test, y_test)\n",
        "r2_random = Random(X_train, y_train, X_test, y_test)\n",
        "r2_xgb = XGBoost(X_train, y_train, X_test, y_test)\n",
        "\n",
        "print(\"\\nR2 Values with SelectKBest:\")\n",
        "print(f\"Linear Regression: {r2_linear}\")\n",
        "print(f\"Decision Tree: {r2_decision}\")\n",
        "print(f\"Random Forest: {r2_random}\")\n",
        "print(f\"XGBoost: {r2_xgb}\")\n"
      ],
      "metadata": {
        "colab": {
          "base_uri": "https://localhost:8080/"
        },
        "id": "WrK50neMJyxP",
        "outputId": "9a989548-b23f-4c25-8f03-956c2d256ecf"
      },
      "id": "WrK50neMJyxP",
      "execution_count": null,
      "outputs": [
        {
          "output_type": "stream",
          "name": "stderr",
          "text": [
            "/usr/local/lib/python3.12/dist-packages/sklearn/base.py:1389: DataConversionWarning: A column-vector y was passed when a 1d array was expected. Please change the shape of y to (n_samples,), for example using ravel().\n",
            "  return fit_method(estimator, *args, **kwargs)\n"
          ]
        },
        {
          "output_type": "stream",
          "name": "stdout",
          "text": [
            "\n",
            "R2 Values with SelectKBest:\n",
            "Linear Regression: 0.013949837548421273\n",
            "Decision Tree: -0.413233779836373\n",
            "Random Forest: 0.12450025088115269\n",
            "XGBoost: 0.029514074325561523\n"
          ]
        }
      ]
    },
    {
      "cell_type": "code",
      "source": [
        "x_train, x_test, y_train, y_test = train_test_split(X_new, dep_Y, test_size=0.30, random_state=0)\n",
        "regressor_dt = DecisionTreeRegressor(criterion='squared_error', splitter='random')\n",
        "regressor_dt.fit(x_train, y_train)\n",
        "\n",
        "y_pred = regressor_dt.predict(x_test)\n",
        "r_score = r2_score(y_test, y_pred)\n",
        "print(f\"\\nFinal Decision Tree R2 Score: {r_score}\")\n"
      ],
      "metadata": {
        "colab": {
          "base_uri": "https://localhost:8080/"
        },
        "id": "bz8ZH667J0zL",
        "outputId": "29d15a16-d15c-4e30-a648-c179899dd6bf"
      },
      "id": "bz8ZH667J0zL",
      "execution_count": null,
      "outputs": [
        {
          "output_type": "stream",
          "name": "stdout",
          "text": [
            "\n",
            "Final Decision Tree R2 Score: -1.8929022649616143\n"
          ]
        }
      ]
    },
    {
      "cell_type": "code",
      "source": [
        "Finalised_Model = \"Finalized_model.sav\"\n",
        "pickle.dump(regressor_dt, open(Finalised_Model, 'wb'))\n",
        "print(\"Final model saved as Finalized_model.sav\")\n"
      ],
      "metadata": {
        "colab": {
          "base_uri": "https://localhost:8080/"
        },
        "id": "7MXLgnCGJ36h",
        "outputId": "73094318-d99a-4012-c939-ab7b0fe95db2"
      },
      "id": "7MXLgnCGJ36h",
      "execution_count": null,
      "outputs": [
        {
          "output_type": "stream",
          "name": "stdout",
          "text": [
            "Final model saved as Finalized_model.sav\n"
          ]
        }
      ]
    }
  ],
  "metadata": {
    "kernelspec": {
      "display_name": "Python 3 (ipykernel)",
      "language": "python",
      "name": "python3"
    },
    "language_info": {
      "codemirror_mode": {
        "name": "ipython",
        "version": 3
      },
      "file_extension": ".py",
      "mimetype": "text/x-python",
      "name": "python",
      "nbconvert_exporter": "python",
      "pygments_lexer": "ipython3",
      "version": "3.7.6"
    },
    "colab": {
      "provenance": [],
      "include_colab_link": true
    }
  },
  "nbformat": 4,
  "nbformat_minor": 5
}